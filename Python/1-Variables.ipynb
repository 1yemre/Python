{
 "cells": [
  {
   "cell_type": "code",
   "execution_count": 1,
   "id": "42badab0",
   "metadata": {},
   "outputs": [],
   "source": [
    "#Variables"
   ]
  },
  {
   "cell_type": "code",
   "execution_count": 2,
   "id": "37b9996c",
   "metadata": {},
   "outputs": [
    {
     "data": {
      "text/plain": [
       "int"
      ]
     },
     "execution_count": 2,
     "metadata": {},
     "output_type": "execute_result"
    }
   ],
   "source": [
    "type(10)"
   ]
  },
  {
   "cell_type": "code",
   "execution_count": 3,
   "id": "d65de029",
   "metadata": {},
   "outputs": [
    {
     "data": {
      "text/plain": [
       "4.444444444444445"
      ]
     },
     "execution_count": 3,
     "metadata": {},
     "output_type": "execute_result"
    }
   ],
   "source": [
    "40/9"
   ]
  },
  {
   "cell_type": "code",
   "execution_count": 4,
   "id": "59896624",
   "metadata": {},
   "outputs": [
    {
     "data": {
      "text/plain": [
       "-18"
      ]
     },
     "execution_count": 4,
     "metadata": {},
     "output_type": "execute_result"
    }
   ],
   "source": [
    "2-(10*2)"
   ]
  },
  {
   "cell_type": "code",
   "execution_count": 5,
   "id": "2ee13e6b",
   "metadata": {},
   "outputs": [
    {
     "data": {
      "text/plain": [
       "-18"
      ]
     },
     "execution_count": 5,
     "metadata": {},
     "output_type": "execute_result"
    }
   ],
   "source": [
    "2-10*2"
   ]
  },
  {
   "cell_type": "code",
   "execution_count": 6,
   "id": "fce68631",
   "metadata": {},
   "outputs": [
    {
     "data": {
      "text/plain": [
       "512"
      ]
     },
     "execution_count": 6,
     "metadata": {},
     "output_type": "execute_result"
    }
   ],
   "source": [
    "2**9"
   ]
  },
  {
   "cell_type": "code",
   "execution_count": 7,
   "id": "2b223a12",
   "metadata": {},
   "outputs": [
    {
     "data": {
      "text/plain": [
       "1"
      ]
     },
     "execution_count": 7,
     "metadata": {},
     "output_type": "execute_result"
    }
   ],
   "source": [
    "10%3"
   ]
  },
  {
   "cell_type": "code",
   "execution_count": 8,
   "id": "76d333e1",
   "metadata": {},
   "outputs": [
    {
     "data": {
      "text/plain": [
       "'Emre'"
      ]
     },
     "execution_count": 8,
     "metadata": {},
     "output_type": "execute_result"
    }
   ],
   "source": [
    "\"Emre\""
   ]
  },
  {
   "cell_type": "code",
   "execution_count": 9,
   "id": "c09f59a4",
   "metadata": {},
   "outputs": [],
   "source": [
    "name='emre'"
   ]
  },
  {
   "cell_type": "code",
   "execution_count": 10,
   "id": "da46f8b5",
   "metadata": {},
   "outputs": [
    {
     "data": {
      "text/plain": [
       "str"
      ]
     },
     "execution_count": 10,
     "metadata": {},
     "output_type": "execute_result"
    }
   ],
   "source": [
    "type(name)\n"
   ]
  },
  {
   "cell_type": "code",
   "execution_count": null,
   "id": "f3c0b0fd",
   "metadata": {},
   "outputs": [],
   "source": [
    "#string methods"
   ]
  },
  {
   "cell_type": "code",
   "execution_count": 11,
   "id": "336b3fce",
   "metadata": {},
   "outputs": [
    {
     "data": {
      "text/plain": [
       "'Emre'"
      ]
     },
     "execution_count": 11,
     "metadata": {},
     "output_type": "execute_result"
    }
   ],
   "source": [
    "name.capitalize()  #ilk harf büyük "
   ]
  },
  {
   "cell_type": "code",
   "execution_count": 12,
   "id": "f0c09d3d",
   "metadata": {},
   "outputs": [
    {
     "name": "stdout",
     "output_type": "stream",
     "text": [
      "Help on built-in function count:\n",
      "\n",
      "count(...) method of builtins.str instance\n",
      "    S.count(sub[, start[, end]]) -> int\n",
      "    \n",
      "    Return the number of non-overlapping occurrences of substring sub in\n",
      "    string S[start:end].  Optional arguments start and end are\n",
      "    interpreted as in slice notation.\n",
      "\n"
     ]
    }
   ],
   "source": [
    " help(name.count)"
   ]
  },
  {
   "cell_type": "code",
   "execution_count": 13,
   "id": "6c3056d0",
   "metadata": {},
   "outputs": [
    {
     "data": {
      "text/plain": [
       "'EMRE'"
      ]
     },
     "execution_count": 13,
     "metadata": {},
     "output_type": "execute_result"
    }
   ],
   "source": [
    "name.upper()"
   ]
  },
  {
   "cell_type": "markdown",
   "id": "62b407c5",
   "metadata": {},
   "source": [
    "# Index"
   ]
  },
  {
   "cell_type": "code",
   "execution_count": 14,
   "id": "4b197685",
   "metadata": {},
   "outputs": [],
   "source": [
    "mystring='hello pyhton'"
   ]
  },
  {
   "cell_type": "code",
   "execution_count": 15,
   "id": "349e4316",
   "metadata": {},
   "outputs": [
    {
     "data": {
      "text/plain": [
       "'l'"
      ]
     },
     "execution_count": 15,
     "metadata": {},
     "output_type": "execute_result"
    }
   ],
   "source": [
    "mystring[3]"
   ]
  },
  {
   "cell_type": "code",
   "execution_count": 16,
   "id": "3cf0526e",
   "metadata": {},
   "outputs": [
    {
     "data": {
      "text/plain": [
       "'y'"
      ]
     },
     "execution_count": 16,
     "metadata": {},
     "output_type": "execute_result"
    }
   ],
   "source": [
    "mystring[7]"
   ]
  },
  {
   "cell_type": "code",
   "execution_count": 17,
   "id": "3684fd15",
   "metadata": {},
   "outputs": [
    {
     "data": {
      "text/plain": [
       "12"
      ]
     },
     "execution_count": 17,
     "metadata": {},
     "output_type": "execute_result"
    }
   ],
   "source": [
    "len(mystring)"
   ]
  },
  {
   "cell_type": "code",
   "execution_count": 19,
   "id": "3d3f5380",
   "metadata": {},
   "outputs": [
    {
     "data": {
      "text/plain": [
       "'n'"
      ]
     },
     "execution_count": 19,
     "metadata": {},
     "output_type": "execute_result"
    }
   ],
   "source": [
    "mystring[-1]"
   ]
  },
  {
   "cell_type": "code",
   "execution_count": 20,
   "id": "dc6c2676",
   "metadata": {},
   "outputs": [],
   "source": [
    "barcode='ABC12345678'"
   ]
  },
  {
   "cell_type": "code",
   "execution_count": 21,
   "id": "4bd2555f",
   "metadata": {},
   "outputs": [],
   "source": [
    "#Slicing , startin,stopping,stepping"
   ]
  },
  {
   "cell_type": "code",
   "execution_count": 24,
   "id": "90290bb4",
   "metadata": {},
   "outputs": [],
   "source": [
    "#barcode[starting:stopping:stepping]"
   ]
  },
  {
   "cell_type": "code",
   "execution_count": 25,
   "id": "1ed6d5c3",
   "metadata": {},
   "outputs": [
    {
     "data": {
      "text/plain": [
       "'12345678'"
      ]
     },
     "execution_count": 25,
     "metadata": {},
     "output_type": "execute_result"
    }
   ],
   "source": [
    "barcode[3::]"
   ]
  },
  {
   "cell_type": "code",
   "execution_count": 26,
   "id": "ca235a46",
   "metadata": {},
   "outputs": [
    {
     "data": {
      "text/plain": [
       "'ABC'"
      ]
     },
     "execution_count": 26,
     "metadata": {},
     "output_type": "execute_result"
    }
   ],
   "source": [
    "barcode[:3:]"
   ]
  },
  {
   "cell_type": "code",
   "execution_count": 27,
   "id": "9165d7f6",
   "metadata": {},
   "outputs": [
    {
     "data": {
      "text/plain": [
       "'AC2468'"
      ]
     },
     "execution_count": 27,
     "metadata": {},
     "output_type": "execute_result"
    }
   ],
   "source": [
    "barcode[::2]"
   ]
  },
  {
   "cell_type": "code",
   "execution_count": 28,
   "id": "4595a277",
   "metadata": {},
   "outputs": [
    {
     "data": {
      "text/plain": [
       "'B135'"
      ]
     },
     "execution_count": 28,
     "metadata": {},
     "output_type": "execute_result"
    }
   ],
   "source": [
    "barcode[1:9:2]"
   ]
  },
  {
   "cell_type": "code",
   "execution_count": 29,
   "id": "7a326309",
   "metadata": {},
   "outputs": [
    {
     "data": {
      "text/plain": [
       "'87654321CBA'"
      ]
     },
     "execution_count": 29,
     "metadata": {},
     "output_type": "execute_result"
    }
   ],
   "source": [
    "barcode[::-1]"
   ]
  },
  {
   "cell_type": "code",
   "execution_count": 30,
   "id": "afca9414",
   "metadata": {},
   "outputs": [
    {
     "data": {
      "text/plain": [
       "0"
      ]
     },
     "execution_count": 30,
     "metadata": {},
     "output_type": "execute_result"
    }
   ],
   "source": [
    "name.index('e')"
   ]
  },
  {
   "cell_type": "markdown",
   "id": "29cb1e2b",
   "metadata": {},
   "source": [
    "# List"
   ]
  },
  {
   "cell_type": "code",
   "execution_count": 35,
   "id": "f71791b5",
   "metadata": {},
   "outputs": [],
   "source": [
    "x=10\n",
    "y=20\n",
    "z=30\n",
    "mylist=[x,y,z]"
   ]
  },
  {
   "cell_type": "code",
   "execution_count": 36,
   "id": "65f3a3f9",
   "metadata": {},
   "outputs": [
    {
     "data": {
      "text/plain": [
       "[10, 20, 30]"
      ]
     },
     "execution_count": 36,
     "metadata": {},
     "output_type": "execute_result"
    }
   ],
   "source": [
    "mylist"
   ]
  },
  {
   "cell_type": "code",
   "execution_count": 37,
   "id": "cf24e847",
   "metadata": {},
   "outputs": [],
   "source": [
    "mylist.append(80)"
   ]
  },
  {
   "cell_type": "code",
   "execution_count": 38,
   "id": "39735d31",
   "metadata": {},
   "outputs": [
    {
     "data": {
      "text/plain": [
       "[10, 20, 30, 80]"
      ]
     },
     "execution_count": 38,
     "metadata": {},
     "output_type": "execute_result"
    }
   ],
   "source": [
    "mylist"
   ]
  },
  {
   "cell_type": "code",
   "execution_count": 42,
   "id": "ff62509c",
   "metadata": {},
   "outputs": [
    {
     "data": {
      "text/plain": [
       "[80, 30, 20, 10]"
      ]
     },
     "execution_count": 42,
     "metadata": {},
     "output_type": "execute_result"
    }
   ],
   "source": [
    "mylist.reverse()\n",
    "mylist"
   ]
  },
  {
   "cell_type": "code",
   "execution_count": 46,
   "id": "68e07dd6",
   "metadata": {},
   "outputs": [
    {
     "data": {
      "text/plain": [
       "[10, 20, 30, 80]"
      ]
     },
     "execution_count": 46,
     "metadata": {},
     "output_type": "execute_result"
    }
   ],
   "source": [
    "mylist.sort()\n",
    "mylist"
   ]
  },
  {
   "cell_type": "code",
   "execution_count": 47,
   "id": "7e912914",
   "metadata": {},
   "outputs": [
    {
     "name": "stdout",
     "output_type": "stream",
     "text": [
      "enter x10\n"
     ]
    }
   ],
   "source": [
    "x=input(\"enter x\")"
   ]
  },
  {
   "cell_type": "code",
   "execution_count": 48,
   "id": "fb7520ee",
   "metadata": {},
   "outputs": [
    {
     "name": "stdout",
     "output_type": "stream",
     "text": [
      "enter y20\n"
     ]
    }
   ],
   "source": [
    "y=input('enter y')\n"
   ]
  },
  {
   "cell_type": "code",
   "execution_count": 49,
   "id": "d52cb46b",
   "metadata": {},
   "outputs": [
    {
     "name": "stdout",
     "output_type": "stream",
     "text": [
      "enter z30\n"
     ]
    }
   ],
   "source": [
    "z=input('enter z')"
   ]
  },
  {
   "cell_type": "code",
   "execution_count": 51,
   "id": "f111f186",
   "metadata": {},
   "outputs": [],
   "source": [
    "inputList=[]"
   ]
  },
  {
   "cell_type": "code",
   "execution_count": 55,
   "id": "104577f8",
   "metadata": {},
   "outputs": [
    {
     "data": {
      "text/plain": [
       "['10', '30', '20', '10', '30', '20']"
      ]
     },
     "execution_count": 55,
     "metadata": {},
     "output_type": "execute_result"
    }
   ],
   "source": [
    "inputList.append(x)\n",
    "inputList.append(z)\n",
    "inputList.append(y)\n",
    "inputList"
   ]
  },
  {
   "cell_type": "code",
   "execution_count": 57,
   "id": "e34dcbea",
   "metadata": {},
   "outputs": [],
   "source": [
    "mystring=\"40\""
   ]
  },
  {
   "cell_type": "code",
   "execution_count": 58,
   "id": "a7fbf788",
   "metadata": {},
   "outputs": [
    {
     "data": {
      "text/plain": [
       "40"
      ]
     },
     "execution_count": 58,
     "metadata": {},
     "output_type": "execute_result"
    }
   ],
   "source": [
    "int(mystring)"
   ]
  },
  {
   "cell_type": "code",
   "execution_count": 59,
   "id": "7e05b2ba",
   "metadata": {},
   "outputs": [
    {
     "data": {
      "text/plain": [
       "40.0"
      ]
     },
     "execution_count": 59,
     "metadata": {},
     "output_type": "execute_result"
    }
   ],
   "source": [
    "float(mystring)"
   ]
  },
  {
   "cell_type": "code",
   "execution_count": 61,
   "id": "30009de0",
   "metadata": {},
   "outputs": [
    {
     "data": {
      "text/plain": [
       "list"
      ]
     },
     "execution_count": 61,
     "metadata": {},
     "output_type": "execute_result"
    }
   ],
   "source": [
    "mixedList=[\"Emre\",100,3.14]\n",
    "type(mixedList)"
   ]
  },
  {
   "cell_type": "code",
   "execution_count": 63,
   "id": "48ba0edb",
   "metadata": {},
   "outputs": [
    {
     "data": {
      "text/plain": [
       "[10, 20, 30, 70, 80, 30]"
      ]
     },
     "execution_count": 63,
     "metadata": {},
     "output_type": "execute_result"
    }
   ],
   "source": [
    "list1=[10,20,30]\n",
    "list2=[70,80,30]\n",
    "list1+list2"
   ]
  },
  {
   "cell_type": "code",
   "execution_count": 64,
   "id": "ccf5799b",
   "metadata": {},
   "outputs": [],
   "source": [
    "#nestedlist"
   ]
  },
  {
   "cell_type": "code",
   "execution_count": 65,
   "id": "c056b48c",
   "metadata": {},
   "outputs": [
    {
     "data": {
      "text/plain": [
       "[10, 20, [1, 2, 3], 'Emre']"
      ]
     },
     "execution_count": 65,
     "metadata": {},
     "output_type": "execute_result"
    }
   ],
   "source": [
    "myNestedList=[10,20,[1,2,3],\"Emre\"]\n",
    "myNestedList"
   ]
  },
  {
   "cell_type": "code",
   "execution_count": 67,
   "id": "af458cb0",
   "metadata": {},
   "outputs": [
    {
     "data": {
      "text/plain": [
       "10"
      ]
     },
     "execution_count": 67,
     "metadata": {},
     "output_type": "execute_result"
    }
   ],
   "source": [
    "myNestedList[0]\n"
   ]
  },
  {
   "cell_type": "code",
   "execution_count": 68,
   "id": "b05c6dc7",
   "metadata": {},
   "outputs": [
    {
     "data": {
      "text/plain": [
       "20"
      ]
     },
     "execution_count": 68,
     "metadata": {},
     "output_type": "execute_result"
    }
   ],
   "source": [
    "myNestedList[1]\n"
   ]
  },
  {
   "cell_type": "code",
   "execution_count": 69,
   "id": "62c19ff1",
   "metadata": {},
   "outputs": [
    {
     "data": {
      "text/plain": [
       "[1, 2, 3]"
      ]
     },
     "execution_count": 69,
     "metadata": {},
     "output_type": "execute_result"
    }
   ],
   "source": [
    "myNestedList[2]\n"
   ]
  },
  {
   "cell_type": "code",
   "execution_count": 70,
   "id": "1286b873",
   "metadata": {},
   "outputs": [
    {
     "data": {
      "text/plain": [
       "'Emre'"
      ]
     },
     "execution_count": 70,
     "metadata": {},
     "output_type": "execute_result"
    }
   ],
   "source": [
    "\n",
    "myNestedList[3]"
   ]
  },
  {
   "cell_type": "markdown",
   "id": "31e919a4",
   "metadata": {},
   "source": [
    "# Dictionary\n",
    "\n",
    "#key-value pairing"
   ]
  },
  {
   "cell_type": "code",
   "execution_count": 72,
   "id": "210dbcb7",
   "metadata": {},
   "outputs": [
    {
     "data": {
      "text/plain": [
       "dict"
      ]
     },
     "execution_count": 72,
     "metadata": {},
     "output_type": "execute_result"
    }
   ],
   "source": [
    "fitness_dictionary={\"banana\":100,\"apple\":150}\n",
    "type(fitness_dictionary)"
   ]
  },
  {
   "cell_type": "code",
   "execution_count": 73,
   "id": "f776bfa8",
   "metadata": {},
   "outputs": [
    {
     "data": {
      "text/plain": [
       "100"
      ]
     },
     "execution_count": 73,
     "metadata": {},
     "output_type": "execute_result"
    }
   ],
   "source": [
    "fitness_dictionary[\"banana\"]"
   ]
  },
  {
   "cell_type": "code",
   "execution_count": 74,
   "id": "8a7bcde3",
   "metadata": {},
   "outputs": [
    {
     "data": {
      "text/plain": [
       "dict_keys(['banana', 'apple'])"
      ]
     },
     "execution_count": 74,
     "metadata": {},
     "output_type": "execute_result"
    }
   ],
   "source": [
    "fitness_dictionary.keys()"
   ]
  },
  {
   "cell_type": "code",
   "execution_count": 76,
   "id": "9a8105b9",
   "metadata": {},
   "outputs": [
    {
     "data": {
      "text/plain": [
       "dict_values"
      ]
     },
     "execution_count": 76,
     "metadata": {},
     "output_type": "execute_result"
    }
   ],
   "source": [
    "type(fitness_dictionary.values())"
   ]
  },
  {
   "cell_type": "code",
   "execution_count": 77,
   "id": "1a2ed3ff",
   "metadata": {},
   "outputs": [
    {
     "data": {
      "text/plain": [
       "[100, 150]"
      ]
     },
     "execution_count": 77,
     "metadata": {},
     "output_type": "execute_result"
    }
   ],
   "source": [
    "list(fitness_dictionary.values())"
   ]
  },
  {
   "cell_type": "code",
   "execution_count": 78,
   "id": "36f6e543",
   "metadata": {},
   "outputs": [],
   "source": [
    "fitness_dictionary[\"melon\"]=300"
   ]
  },
  {
   "cell_type": "code",
   "execution_count": 79,
   "id": "a94bfca7",
   "metadata": {},
   "outputs": [
    {
     "data": {
      "text/plain": [
       "{'banana': 100, 'apple': 150, 'melon': 300}"
      ]
     },
     "execution_count": 79,
     "metadata": {},
     "output_type": "execute_result"
    }
   ],
   "source": [
    "fitness_dictionary"
   ]
  },
  {
   "cell_type": "code",
   "execution_count": 81,
   "id": "fd1707b3",
   "metadata": {},
   "outputs": [
    {
     "data": {
      "text/plain": [
       "0"
      ]
     },
     "execution_count": 81,
     "metadata": {},
     "output_type": "execute_result"
    }
   ],
   "source": [
    "fitness_dictionary.get(\"appl\",0)"
   ]
  },
  {
   "cell_type": "code",
   "execution_count": 83,
   "id": "c82b4e00",
   "metadata": {},
   "outputs": [
    {
     "data": {
      "text/plain": [
       "'emre'"
      ]
     },
     "execution_count": 83,
     "metadata": {},
     "output_type": "execute_result"
    }
   ],
   "source": [
    "my_dict={100:\"emre\",200:\"kerem\",300:\"Yağmur\"}\n",
    "my_dict[100]"
   ]
  },
  {
   "cell_type": "markdown",
   "id": "19f7b9ed",
   "metadata": {},
   "source": [
    "# Sets"
   ]
  },
  {
   "cell_type": "code",
   "execution_count": 84,
   "id": "b44259b4",
   "metadata": {},
   "outputs": [],
   "source": [
    "#unique elements,unordered"
   ]
  },
  {
   "cell_type": "code",
   "execution_count": 86,
   "id": "51a61d44",
   "metadata": {},
   "outputs": [
    {
     "data": {
      "text/plain": [
       "7"
      ]
     },
     "execution_count": 86,
     "metadata": {},
     "output_type": "execute_result"
    }
   ],
   "source": [
    "mylist=[10,20,30,10,20,30,40]\n",
    "len(mylist)"
   ]
  },
  {
   "cell_type": "code",
   "execution_count": 88,
   "id": "29a73692",
   "metadata": {},
   "outputs": [
    {
     "data": {
      "text/plain": [
       "{10, 20, 30, 40}"
      ]
     },
     "execution_count": 88,
     "metadata": {},
     "output_type": "execute_result"
    }
   ],
   "source": [
    "myset=set(mylist)\n",
    "myset"
   ]
  },
  {
   "cell_type": "code",
   "execution_count": 91,
   "id": "7dc346ed",
   "metadata": {},
   "outputs": [
    {
     "data": {
      "text/plain": [
       "{10, 20, 30, 40, 50, 60, 70}"
      ]
     },
     "execution_count": 91,
     "metadata": {},
     "output_type": "execute_result"
    }
   ],
   "source": [
    "myset={10,20,30,40,50} \n",
    "myset2={30,40,50,60,70}\n",
    "myset.union(myset2)"
   ]
  },
  {
   "cell_type": "code",
   "execution_count": 92,
   "id": "a9875013",
   "metadata": {},
   "outputs": [
    {
     "data": {
      "text/plain": [
       "{30, 40, 50}"
      ]
     },
     "execution_count": 92,
     "metadata": {},
     "output_type": "execute_result"
    }
   ],
   "source": [
    "myset.intersection(myset2)"
   ]
  },
  {
   "cell_type": "code",
   "execution_count": 93,
   "id": "402d9114",
   "metadata": {},
   "outputs": [
    {
     "data": {
      "text/plain": [
       "{'de', 'fr', 'nl', 'tr'}"
      ]
     },
     "execution_count": 93,
     "metadata": {},
     "output_type": "execute_result"
    }
   ],
   "source": [
    "countryList=[\"de\",\"fr\",\"tr\",\"fr\",\"tr\",\"de\",\"nl\",\"de\",\"tr\"]\n",
    "set(countryList)"
   ]
  },
  {
   "cell_type": "code",
   "execution_count": 94,
   "id": "96dc9a9d",
   "metadata": {},
   "outputs": [],
   "source": [
    "emptyList=[]\n",
    "emptyList.append(10)\n",
    "emptyList.append(20)\n",
    "emptyList.append(30)"
   ]
  },
  {
   "cell_type": "code",
   "execution_count": 95,
   "id": "53624029",
   "metadata": {},
   "outputs": [
    {
     "data": {
      "text/plain": [
       "[10, 20, 30]"
      ]
     },
     "execution_count": 95,
     "metadata": {},
     "output_type": "execute_result"
    }
   ],
   "source": [
    "emptyList"
   ]
  },
  {
   "cell_type": "code",
   "execution_count": 96,
   "id": "d7eb4ab0",
   "metadata": {},
   "outputs": [],
   "source": [
    "emptySet={}"
   ]
  },
  {
   "cell_type": "code",
   "execution_count": 97,
   "id": "ba98ffb8",
   "metadata": {},
   "outputs": [
    {
     "data": {
      "text/plain": [
       "dict"
      ]
     },
     "execution_count": 97,
     "metadata": {},
     "output_type": "execute_result"
    }
   ],
   "source": [
    "type(emptySet)"
   ]
  },
  {
   "cell_type": "code",
   "execution_count": 98,
   "id": "6cb1e5c7",
   "metadata": {},
   "outputs": [],
   "source": [
    "emptySet=set()"
   ]
  },
  {
   "cell_type": "code",
   "execution_count": 99,
   "id": "2accb550",
   "metadata": {},
   "outputs": [
    {
     "data": {
      "text/plain": [
       "set"
      ]
     },
     "execution_count": 99,
     "metadata": {},
     "output_type": "execute_result"
    }
   ],
   "source": [
    "type(emptySet)"
   ]
  },
  {
   "cell_type": "markdown",
   "id": "ad6208b8",
   "metadata": {},
   "source": [
    "# Tuples"
   ]
  },
  {
   "cell_type": "code",
   "execution_count": 100,
   "id": "5abcb52a",
   "metadata": {},
   "outputs": [
    {
     "data": {
      "text/plain": [
       "tuple"
      ]
     },
     "execution_count": 100,
     "metadata": {},
     "output_type": "execute_result"
    }
   ],
   "source": [
    "myTuple=(10,\"a\",\"b\",3.14)\n",
    "type(myTuple)"
   ]
  },
  {
   "cell_type": "code",
   "execution_count": 101,
   "id": "1034bbb2",
   "metadata": {},
   "outputs": [
    {
     "data": {
      "text/plain": [
       "10"
      ]
     },
     "execution_count": 101,
     "metadata": {},
     "output_type": "execute_result"
    }
   ],
   "source": [
    "myTuple[0]"
   ]
  },
  {
   "cell_type": "code",
   "execution_count": 102,
   "id": "9c4598d6",
   "metadata": {},
   "outputs": [
    {
     "ename": "TypeError",
     "evalue": "'tuple' object does not support item assignment",
     "output_type": "error",
     "traceback": [
      "\u001b[1;31m---------------------------------------------------------------------------\u001b[0m",
      "\u001b[1;31mTypeError\u001b[0m                                 Traceback (most recent call last)",
      "Cell \u001b[1;32mIn[102], line 1\u001b[0m\n\u001b[1;32m----> 1\u001b[0m myTuple[\u001b[38;5;241m0\u001b[39m]\u001b[38;5;241m=\u001b[39m\u001b[38;5;241m100\u001b[39m\n",
      "\u001b[1;31mTypeError\u001b[0m: 'tuple' object does not support item assignment"
     ]
    }
   ],
   "source": [
    "myTuple[0]=100"
   ]
  },
  {
   "cell_type": "code",
   "execution_count": 103,
   "id": "fa73bff5",
   "metadata": {},
   "outputs": [],
   "source": [
    "#immutability"
   ]
  },
  {
   "cell_type": "markdown",
   "id": "25104231",
   "metadata": {},
   "source": [
    "# Boolean"
   ]
  },
  {
   "cell_type": "code",
   "execution_count": 104,
   "id": "f9dc7076",
   "metadata": {},
   "outputs": [
    {
     "data": {
      "text/plain": [
       "True"
      ]
     },
     "execution_count": 104,
     "metadata": {},
     "output_type": "execute_result"
    }
   ],
   "source": [
    "True or False"
   ]
  },
  {
   "cell_type": "code",
   "execution_count": 108,
   "id": "6975ad83",
   "metadata": {},
   "outputs": [
    {
     "data": {
      "text/plain": [
       "bool"
      ]
     },
     "execution_count": 108,
     "metadata": {},
     "output_type": "execute_result"
    }
   ],
   "source": [
    "myBoolean=True\n",
    "\n",
    "type(myBoolean)"
   ]
  },
  {
   "cell_type": "code",
   "execution_count": null,
   "id": "ab3ec1b5",
   "metadata": {},
   "outputs": [],
   "source": []
  }
 ],
 "metadata": {
  "kernelspec": {
   "display_name": "Python 3 (ipykernel)",
   "language": "python",
   "name": "python3"
  },
  "language_info": {
   "codemirror_mode": {
    "name": "ipython",
    "version": 3
   },
   "file_extension": ".py",
   "mimetype": "text/x-python",
   "name": "python",
   "nbconvert_exporter": "python",
   "pygments_lexer": "ipython3",
   "version": "3.11.5"
  }
 },
 "nbformat": 4,
 "nbformat_minor": 5
}
