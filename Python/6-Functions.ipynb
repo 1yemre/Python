{
 "cells": [
  {
   "cell_type": "code",
   "execution_count": 1,
   "id": "592723af",
   "metadata": {},
   "outputs": [],
   "source": [
    "my_name=\"Emre\""
   ]
  },
  {
   "cell_type": "code",
   "execution_count": 3,
   "id": "2a113e77",
   "metadata": {},
   "outputs": [
    {
     "data": {
      "text/plain": [
       "'EMRE'"
      ]
     },
     "execution_count": 3,
     "metadata": {},
     "output_type": "execute_result"
    }
   ],
   "source": [
    "my_name.upper()"
   ]
  },
  {
   "cell_type": "code",
   "execution_count": 4,
   "id": "2ad34f26",
   "metadata": {},
   "outputs": [],
   "source": [
    "#functions \n"
   ]
  },
  {
   "cell_type": "code",
   "execution_count": 5,
   "id": "2d89c483",
   "metadata": {},
   "outputs": [],
   "source": [
    "def hello_python():\n",
    "    print(\"hello\")\n",
    "    print(\"pyhton\")"
   ]
  },
  {
   "cell_type": "code",
   "execution_count": 6,
   "id": "1f33591a",
   "metadata": {},
   "outputs": [
    {
     "data": {
      "text/plain": [
       "<function __main__.hello_python()>"
      ]
     },
     "execution_count": 6,
     "metadata": {},
     "output_type": "execute_result"
    }
   ],
   "source": [
    "hello_python"
   ]
  },
  {
   "cell_type": "code",
   "execution_count": 7,
   "id": "049172c6",
   "metadata": {},
   "outputs": [
    {
     "name": "stdout",
     "output_type": "stream",
     "text": [
      "hello\n",
      "pyhton\n"
     ]
    }
   ],
   "source": [
    "hello_python()"
   ]
  },
  {
   "cell_type": "code",
   "execution_count": 8,
   "id": "ca7ffef2",
   "metadata": {},
   "outputs": [],
   "source": [
    "#input"
   ]
  },
  {
   "cell_type": "code",
   "execution_count": 9,
   "id": "946f9f1b",
   "metadata": {},
   "outputs": [],
   "source": [
    "def hello_name(name):\n",
    "    print(\"hello\")\n",
    "    print(name)"
   ]
  },
  {
   "cell_type": "code",
   "execution_count": 10,
   "id": "b212b7a9",
   "metadata": {},
   "outputs": [
    {
     "name": "stdout",
     "output_type": "stream",
     "text": [
      "hello\n",
      "Emre\n"
     ]
    }
   ],
   "source": [
    "hello_name(\"Emre\")"
   ]
  },
  {
   "cell_type": "code",
   "execution_count": 11,
   "id": "ccf7a02f",
   "metadata": {},
   "outputs": [],
   "source": [
    "def Sum_Ex(n1,n2):\n",
    "    print(n1+n2)"
   ]
  },
  {
   "cell_type": "code",
   "execution_count": 12,
   "id": "5f4cbe44",
   "metadata": {},
   "outputs": [
    {
     "name": "stdout",
     "output_type": "stream",
     "text": [
      "15\n"
     ]
    }
   ],
   "source": [
    "Sum_Ex(5,10)"
   ]
  },
  {
   "cell_type": "code",
   "execution_count": 13,
   "id": "661f1882",
   "metadata": {},
   "outputs": [],
   "source": [
    "def hello_surname(surname=\"Yenen\"):\n",
    "    print(surname)"
   ]
  },
  {
   "cell_type": "code",
   "execution_count": 14,
   "id": "4492434e",
   "metadata": {},
   "outputs": [
    {
     "name": "stdout",
     "output_type": "stream",
     "text": [
      "Yenen\n"
     ]
    }
   ],
   "source": [
    "hello_surname()"
   ]
  },
  {
   "cell_type": "code",
   "execution_count": 15,
   "id": "1c79e237",
   "metadata": {},
   "outputs": [],
   "source": [
    "def summation (n1,n2,n3):\n",
    "    return(n1+n2+n3)\n"
   ]
  },
  {
   "cell_type": "code",
   "execution_count": 16,
   "id": "f1c00ad4",
   "metadata": {},
   "outputs": [],
   "source": [
    "x=summation(10,20,8)"
   ]
  },
  {
   "cell_type": "code",
   "execution_count": 17,
   "id": "46274f16",
   "metadata": {},
   "outputs": [
    {
     "data": {
      "text/plain": [
       "38"
      ]
     },
     "execution_count": 17,
     "metadata": {},
     "output_type": "execute_result"
    }
   ],
   "source": [
    "x"
   ]
  },
  {
   "cell_type": "code",
   "execution_count": 18,
   "id": "e55d90cd",
   "metadata": {},
   "outputs": [],
   "source": [
    "def controstring(s):\n",
    "    if s[0]==\"a\":\n",
    "        print(\"a\")"
   ]
  },
  {
   "cell_type": "code",
   "execution_count": 19,
   "id": "7af48894",
   "metadata": {},
   "outputs": [
    {
     "name": "stdout",
     "output_type": "stream",
     "text": [
      "a\n"
     ]
    }
   ],
   "source": [
    "controstring(\"atlas\")"
   ]
  },
  {
   "cell_type": "code",
   "execution_count": 20,
   "id": "155d6691",
   "metadata": {},
   "outputs": [],
   "source": [
    "#args,kwargs(arguments,key word arguments)"
   ]
  },
  {
   "cell_type": "code",
   "execution_count": 21,
   "id": "72684496",
   "metadata": {},
   "outputs": [],
   "source": [
    "def args_sum(*args):\n",
    "    return sum(args)"
   ]
  },
  {
   "cell_type": "code",
   "execution_count": 22,
   "id": "3e029bcc",
   "metadata": {},
   "outputs": [
    {
     "data": {
      "text/plain": [
       "258"
      ]
     },
     "execution_count": 22,
     "metadata": {},
     "output_type": "execute_result"
    }
   ],
   "source": [
    "args_sum(6,20,30,50,64,54,34)"
   ]
  },
  {
   "cell_type": "code",
   "execution_count": 23,
   "id": "69fbe506",
   "metadata": {},
   "outputs": [],
   "source": [
    "def kwargs_example(**kwargs):\n",
    "    print(kwargs)"
   ]
  },
  {
   "cell_type": "code",
   "execution_count": 24,
   "id": "e1213bfa",
   "metadata": {},
   "outputs": [
    {
     "name": "stdout",
     "output_type": "stream",
     "text": [
      "{'apple': 100, 'banana': 150, 'melon': 200}\n"
     ]
    }
   ],
   "source": [
    "kwargs_example(apple=100,banana=150,melon=200)"
   ]
  },
  {
   "cell_type": "code",
   "execution_count": 27,
   "id": "a592381b",
   "metadata": {},
   "outputs": [],
   "source": [
    "def kwargs_ex_2(**kwargs):\n",
    "    if\"apple\" in kwargs:\n",
    "        print(\"apppleee\")\n",
    "    else:  \n",
    "        print(\":(\")"
   ]
  },
  {
   "cell_type": "code",
   "execution_count": 28,
   "id": "72c93c64",
   "metadata": {},
   "outputs": [
    {
     "name": "stdout",
     "output_type": "stream",
     "text": [
      "apppleee\n"
     ]
    }
   ],
   "source": [
    "kwargs_ex_2(apple=10,banana=15)"
   ]
  },
  {
   "cell_type": "markdown",
   "id": "6a0f247b",
   "metadata": {},
   "source": [
    "# PracticalFunctions"
   ]
  },
  {
   "cell_type": "code",
   "execution_count": 29,
   "id": "3376c4e6",
   "metadata": {},
   "outputs": [],
   "source": [
    "def divideNumber(number):\n",
    "    return number/2"
   ]
  },
  {
   "cell_type": "code",
   "execution_count": 30,
   "id": "b8e8094f",
   "metadata": {},
   "outputs": [
    {
     "data": {
      "text/plain": [
       "10.0"
      ]
     },
     "execution_count": 30,
     "metadata": {},
     "output_type": "execute_result"
    }
   ],
   "source": [
    "divideNumber(20)"
   ]
  },
  {
   "cell_type": "code",
   "execution_count": 31,
   "id": "0e5bbea6",
   "metadata": {},
   "outputs": [],
   "source": [
    "myList=[3,5,7,10,20]"
   ]
  },
  {
   "cell_type": "code",
   "execution_count": 34,
   "id": "b829076b",
   "metadata": {},
   "outputs": [
    {
     "data": {
      "text/plain": [
       "[1.5, 2.5, 3.5, 5.0, 10.0]"
      ]
     },
     "execution_count": 34,
     "metadata": {},
     "output_type": "execute_result"
    }
   ],
   "source": [
    "myResult=[]\n",
    "for num in myList:\n",
    "    myResult.append(divideNumber(num))\n",
    "    \n",
    "    \n",
    "myResult    \n",
    "    "
   ]
  },
  {
   "cell_type": "code",
   "execution_count": 35,
   "id": "4486e60e",
   "metadata": {},
   "outputs": [],
   "source": [
    "#map"
   ]
  },
  {
   "cell_type": "code",
   "execution_count": 37,
   "id": "45651ce4",
   "metadata": {},
   "outputs": [
    {
     "data": {
      "text/plain": [
       "[1.5, 2.5, 3.5, 5.0, 10.0]"
      ]
     },
     "execution_count": 37,
     "metadata": {},
     "output_type": "execute_result"
    }
   ],
   "source": [
    "list(map(divideNumber,myList))"
   ]
  },
  {
   "cell_type": "code",
   "execution_count": 40,
   "id": "3bdfa450",
   "metadata": {},
   "outputs": [
    {
     "data": {
      "text/plain": [
       "True"
      ]
     },
     "execution_count": 40,
     "metadata": {},
     "output_type": "execute_result"
    }
   ],
   "source": [
    "def controlString (string):\n",
    "    return \"Emre\" in string\n",
    "\n",
    "controlString(\"Emre\")"
   ]
  },
  {
   "cell_type": "code",
   "execution_count": 42,
   "id": "4f5b50f9",
   "metadata": {},
   "outputs": [
    {
     "data": {
      "text/plain": [
       "[False, False, False, True]"
      ]
     },
     "execution_count": 42,
     "metadata": {},
     "output_type": "execute_result"
    }
   ],
   "source": [
    "\n",
    "mystring_list=[\"emre\",\"enes\",\"yenen\",\"Emre\"]\n",
    "\n",
    "list(map(controlString,mystring_list))\n"
   ]
  },
  {
   "cell_type": "code",
   "execution_count": 43,
   "id": "5aa6999f",
   "metadata": {},
   "outputs": [],
   "source": [
    "#filter\n"
   ]
  },
  {
   "cell_type": "code",
   "execution_count": 44,
   "id": "d857614f",
   "metadata": {},
   "outputs": [
    {
     "data": {
      "text/plain": [
       "['Emre']"
      ]
     },
     "execution_count": 44,
     "metadata": {},
     "output_type": "execute_result"
    }
   ],
   "source": [
    "list(filter(controlString,mystring_list))"
   ]
  },
  {
   "cell_type": "code",
   "execution_count": 45,
   "id": "d9a8485c",
   "metadata": {},
   "outputs": [],
   "source": [
    "#lambda"
   ]
  },
  {
   "cell_type": "markdown",
   "id": "38d59f3b",
   "metadata": {},
   "source": []
  },
  {
   "cell_type": "code",
   "execution_count": 46,
   "id": "8da05a77",
   "metadata": {},
   "outputs": [],
   "source": [
    "multiplayLambda=lambda num:num*3\n"
   ]
  },
  {
   "cell_type": "code",
   "execution_count": 47,
   "id": "69c13521",
   "metadata": {},
   "outputs": [
    {
     "data": {
      "text/plain": [
       "function"
      ]
     },
     "execution_count": 47,
     "metadata": {},
     "output_type": "execute_result"
    }
   ],
   "source": [
    "type(multiplayLambda)"
   ]
  },
  {
   "cell_type": "code",
   "execution_count": 48,
   "id": "6c90ea14",
   "metadata": {},
   "outputs": [
    {
     "data": {
      "text/plain": [
       "60"
      ]
     },
     "execution_count": 48,
     "metadata": {},
     "output_type": "execute_result"
    }
   ],
   "source": [
    "multiplayLambda(20)"
   ]
  },
  {
   "cell_type": "code",
   "execution_count": 49,
   "id": "231e18bb",
   "metadata": {},
   "outputs": [],
   "source": [
    "result=multiplayLambda(10)"
   ]
  },
  {
   "cell_type": "code",
   "execution_count": 51,
   "id": "e949a993",
   "metadata": {},
   "outputs": [
    {
     "data": {
      "text/plain": [
       "30"
      ]
     },
     "execution_count": 51,
     "metadata": {},
     "output_type": "execute_result"
    }
   ],
   "source": [
    "result"
   ]
  },
  {
   "cell_type": "code",
   "execution_count": 52,
   "id": "40309d6a",
   "metadata": {},
   "outputs": [],
   "source": [
    "numList=[10,20,30,40,50]"
   ]
  },
  {
   "cell_type": "code",
   "execution_count": 53,
   "id": "ed164cfe",
   "metadata": {},
   "outputs": [
    {
     "data": {
      "text/plain": [
       "[2.5, 5.0, 7.5, 10.0, 12.5]"
      ]
     },
     "execution_count": 53,
     "metadata": {},
     "output_type": "execute_result"
    }
   ],
   "source": [
    "list(map(lambda num:num/4,numList))"
   ]
  },
  {
   "cell_type": "code",
   "execution_count": 54,
   "id": "df0ecdc9",
   "metadata": {},
   "outputs": [],
   "source": [
    "#scope"
   ]
  },
  {
   "cell_type": "code",
   "execution_count": 55,
   "id": "5e4daba4",
   "metadata": {},
   "outputs": [],
   "source": [
    "x=20\n",
    "\n",
    "def mutiply(num):\n",
    "    x=5\n",
    "    return num*5"
   ]
  },
  {
   "cell_type": "code",
   "execution_count": 56,
   "id": "4089ab08",
   "metadata": {},
   "outputs": [
    {
     "data": {
      "text/plain": [
       "50"
      ]
     },
     "execution_count": 56,
     "metadata": {},
     "output_type": "execute_result"
    }
   ],
   "source": [
    "mutiply(10)"
   ]
  },
  {
   "cell_type": "code",
   "execution_count": 57,
   "id": "c99c8163",
   "metadata": {},
   "outputs": [
    {
     "name": "stdout",
     "output_type": "stream",
     "text": [
      "20\n"
     ]
    }
   ],
   "source": [
    "print(x)"
   ]
  },
  {
   "cell_type": "code",
   "execution_count": 58,
   "id": "ae2e8e7e",
   "metadata": {},
   "outputs": [],
   "source": [
    "#legb->local enclosing global built-in"
   ]
  },
  {
   "cell_type": "code",
   "execution_count": 68,
   "id": "a1e8c319",
   "metadata": {},
   "outputs": [],
   "source": [
    "#global\n",
    "mystring=\"Emre\"\n",
    "def myfunction():\n",
    "    #enclosing\n",
    "    mystring=\"Emre2\"\n",
    "    print(mystring)\n",
    "\n",
    "    def myfunction2():\n",
    "            #local\n",
    "        mystring=\"Emre3\"\n",
    "        print(mystring)\n",
    "        \n",
    "    myfunction2()    "
   ]
  },
  {
   "cell_type": "code",
   "execution_count": 65,
   "id": "de7c946c",
   "metadata": {},
   "outputs": [
    {
     "data": {
      "text/plain": [
       "'Emre'"
      ]
     },
     "execution_count": 65,
     "metadata": {},
     "output_type": "execute_result"
    }
   ],
   "source": [
    "mystring"
   ]
  },
  {
   "cell_type": "code",
   "execution_count": 69,
   "id": "3ec040c1",
   "metadata": {},
   "outputs": [
    {
     "name": "stdout",
     "output_type": "stream",
     "text": [
      "Emre2\n",
      "Emre3\n"
     ]
    }
   ],
   "source": [
    "myfunction()"
   ]
  },
  {
   "cell_type": "code",
   "execution_count": 72,
   "id": "9e003717",
   "metadata": {},
   "outputs": [],
   "source": [
    "y=10\n",
    "def changeY():\n",
    "    global y \n",
    "    y=5\n",
    "    print(y)"
   ]
  },
  {
   "cell_type": "code",
   "execution_count": 73,
   "id": "6f66e8e5",
   "metadata": {},
   "outputs": [
    {
     "data": {
      "text/plain": [
       "10"
      ]
     },
     "execution_count": 73,
     "metadata": {},
     "output_type": "execute_result"
    }
   ],
   "source": [
    "y"
   ]
  },
  {
   "cell_type": "code",
   "execution_count": 74,
   "id": "47c456fe",
   "metadata": {},
   "outputs": [
    {
     "name": "stdout",
     "output_type": "stream",
     "text": [
      "5\n"
     ]
    }
   ],
   "source": [
    "changeY()"
   ]
  },
  {
   "cell_type": "code",
   "execution_count": 75,
   "id": "363c8eb2",
   "metadata": {},
   "outputs": [
    {
     "data": {
      "text/plain": [
       "5"
      ]
     },
     "execution_count": 75,
     "metadata": {},
     "output_type": "execute_result"
    }
   ],
   "source": [
    "y"
   ]
  },
  {
   "cell_type": "code",
   "execution_count": null,
   "id": "c7863e82",
   "metadata": {},
   "outputs": [],
   "source": []
  }
 ],
 "metadata": {
  "kernelspec": {
   "display_name": "Python 3 (ipykernel)",
   "language": "python",
   "name": "python3"
  },
  "language_info": {
   "codemirror_mode": {
    "name": "ipython",
    "version": 3
   },
   "file_extension": ".py",
   "mimetype": "text/x-python",
   "name": "python",
   "nbconvert_exporter": "python",
   "pygments_lexer": "ipython3",
   "version": "3.11.5"
  }
 },
 "nbformat": 4,
 "nbformat_minor": 5
}
