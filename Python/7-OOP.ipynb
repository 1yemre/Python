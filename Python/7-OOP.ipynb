{
 "cells": [
  {
   "cell_type": "code",
   "execution_count": 34,
   "id": "586fdb71",
   "metadata": {},
   "outputs": [],
   "source": [
    "class Person():\n",
    "    #property\n",
    "    #name=\"\"\n",
    "    #age=0\n",
    "    #gender=\"\"\n",
    "    job=\"developer\"\n",
    "   \n",
    "    #method,initializer\n",
    "    def __init__(self,name,age,gender):\n",
    "          self.name= name\n",
    "          self.age=age\n",
    "          self.gender=gender\n",
    "    #method \n",
    "    def printName(self):\n",
    "        print(self.name)"
   ]
  },
  {
   "cell_type": "code",
   "execution_count": 35,
   "id": "fc393c32",
   "metadata": {},
   "outputs": [],
   "source": [
    "emre=Person(\"Emre\",24,\"male\")"
   ]
  },
  {
   "cell_type": "code",
   "execution_count": 36,
   "id": "efa33c57",
   "metadata": {},
   "outputs": [
    {
     "data": {
      "text/plain": [
       "'Emre'"
      ]
     },
     "execution_count": 36,
     "metadata": {},
     "output_type": "execute_result"
    }
   ],
   "source": [
    "emre.name"
   ]
  },
  {
   "cell_type": "code",
   "execution_count": 37,
   "id": "1ae067d7",
   "metadata": {},
   "outputs": [],
   "source": [
    "emre.job=\"cloud support specialist\""
   ]
  },
  {
   "cell_type": "code",
   "execution_count": 38,
   "id": "ef60103f",
   "metadata": {},
   "outputs": [
    {
     "data": {
      "text/plain": [
       "'cloud support specialist'"
      ]
     },
     "execution_count": 38,
     "metadata": {},
     "output_type": "execute_result"
    }
   ],
   "source": [
    "emre.job"
   ]
  },
  {
   "cell_type": "code",
   "execution_count": 39,
   "id": "aebc5815",
   "metadata": {},
   "outputs": [
    {
     "name": "stdout",
     "output_type": "stream",
     "text": [
      "Emre\n"
     ]
    }
   ],
   "source": [
    "emre.printName()"
   ]
  },
  {
   "cell_type": "code",
   "execution_count": 34,
   "id": "65e6dc87",
   "metadata": {},
   "outputs": [],
   "source": [
    "class Dog():\n",
    "    year=7\n",
    "    def __init__(self,age=5):\n",
    "        self.age=age\n",
    "        self.dogHumanAge=age*self.year\n",
    "       \n",
    "    def humanAge(self):\n",
    "        return self.age*self.year  #dog.year 'da  yazabilirdik"
   ]
  },
  {
   "cell_type": "code",
   "execution_count": 35,
   "id": "9e836785",
   "metadata": {},
   "outputs": [],
   "source": [
    "mydog=Dog(3)"
   ]
  },
  {
   "cell_type": "code",
   "execution_count": 36,
   "id": "f030535e",
   "metadata": {},
   "outputs": [
    {
     "data": {
      "text/plain": [
       "3"
      ]
     },
     "execution_count": 36,
     "metadata": {},
     "output_type": "execute_result"
    }
   ],
   "source": [
    "mydog.age"
   ]
  },
  {
   "cell_type": "code",
   "execution_count": 37,
   "id": "d0028e93",
   "metadata": {},
   "outputs": [
    {
     "data": {
      "text/plain": [
       "21"
      ]
     },
     "execution_count": 37,
     "metadata": {},
     "output_type": "execute_result"
    }
   ],
   "source": [
    "mydog.humanAge()"
   ]
  },
  {
   "cell_type": "code",
   "execution_count": 39,
   "id": "1dc98c62",
   "metadata": {},
   "outputs": [
    {
     "data": {
      "text/plain": [
       "21"
      ]
     },
     "execution_count": 39,
     "metadata": {},
     "output_type": "execute_result"
    }
   ],
   "source": [
    "mydog.dogHumanAge"
   ]
  },
  {
   "cell_type": "code",
   "execution_count": 40,
   "id": "e36ad6f9",
   "metadata": {},
   "outputs": [],
   "source": [
    "barly=Dog()"
   ]
  },
  {
   "cell_type": "code",
   "execution_count": 41,
   "id": "4fda3d3c",
   "metadata": {},
   "outputs": [
    {
     "data": {
      "text/plain": [
       "5"
      ]
     },
     "execution_count": 41,
     "metadata": {},
     "output_type": "execute_result"
    }
   ],
   "source": [
    "barly.age"
   ]
  },
  {
   "cell_type": "markdown",
   "id": "13670208",
   "metadata": {},
   "source": [
    "Inheritance"
   ]
  },
  {
   "cell_type": "code",
   "execution_count": 42,
   "id": "ac34373c",
   "metadata": {},
   "outputs": [],
   "source": [
    "#Kalıtım "
   ]
  },
  {
   "cell_type": "code",
   "execution_count": 61,
   "id": "cbf4c212",
   "metadata": {},
   "outputs": [],
   "source": [
    "class Musician():\n",
    "    def __init__(self,name):\n",
    "        self.name=name\n",
    "        print(\"musician class\")\n",
    "        \n",
    "    def test1(self):\n",
    "        print(\"test1\")\n",
    "    def test2(self):\n",
    "        print(\"test2\")\n",
    "    def test3(self):\n",
    "        print(\"test3\")"
   ]
  },
  {
   "cell_type": "code",
   "execution_count": 62,
   "id": "9035258e",
   "metadata": {},
   "outputs": [
    {
     "name": "stdout",
     "output_type": "stream",
     "text": [
      "musician class\n"
     ]
    }
   ],
   "source": [
    "Emre=Musician(\"Emre\")"
   ]
  },
  {
   "cell_type": "code",
   "execution_count": 63,
   "id": "07ae0225",
   "metadata": {},
   "outputs": [
    {
     "data": {
      "text/plain": [
       "'Emre'"
      ]
     },
     "execution_count": 63,
     "metadata": {},
     "output_type": "execute_result"
    }
   ],
   "source": [
    "Emre.name"
   ]
  },
  {
   "cell_type": "code",
   "execution_count": 64,
   "id": "e00fac5f",
   "metadata": {},
   "outputs": [
    {
     "name": "stdout",
     "output_type": "stream",
     "text": [
      "test1\n"
     ]
    }
   ],
   "source": [
    "Emre.test1()"
   ]
  },
  {
   "cell_type": "code",
   "execution_count": 65,
   "id": "a756551f",
   "metadata": {},
   "outputs": [],
   "source": [
    "class MusicianPlus(Musician):\n",
    "    \n",
    "    def __init__(self,name):\n",
    "        Musician.__init__(self,name)\n",
    "        print(\"musician plus\")"
   ]
  },
  {
   "cell_type": "code",
   "execution_count": 66,
   "id": "787e5921",
   "metadata": {},
   "outputs": [
    {
     "name": "stdout",
     "output_type": "stream",
     "text": [
      "musician class\n",
      "musician plus\n"
     ]
    }
   ],
   "source": [
    "Atlas=MusicianPlus(\"EMRE\")"
   ]
  },
  {
   "cell_type": "code",
   "execution_count": 67,
   "id": "0e7d5578",
   "metadata": {},
   "outputs": [],
   "source": [
    "Atlas.name=\"Emreee\""
   ]
  },
  {
   "cell_type": "code",
   "execution_count": 68,
   "id": "b5614ae8",
   "metadata": {},
   "outputs": [
    {
     "data": {
      "text/plain": [
       "__main__.MusicianPlus"
      ]
     },
     "execution_count": 68,
     "metadata": {},
     "output_type": "execute_result"
    }
   ],
   "source": [
    "type(Atlas)"
   ]
  },
  {
   "cell_type": "code",
   "execution_count": 70,
   "id": "a2e18766",
   "metadata": {},
   "outputs": [
    {
     "name": "stdout",
     "output_type": "stream",
     "text": [
      "test3\n"
     ]
    }
   ],
   "source": [
    "Atlas.test3()"
   ]
  },
  {
   "cell_type": "markdown",
   "id": "18fee49b",
   "metadata": {},
   "source": [
    "Polymorphism"
   ]
  },
  {
   "cell_type": "code",
   "execution_count": 78,
   "id": "a45ee81e",
   "metadata": {},
   "outputs": [],
   "source": [
    "class Banana():\n",
    "    def __init__(self,name):\n",
    "        self.name=name\n",
    "    def info (self):\n",
    "        return f\"100 calories {self.name}\"\n",
    "    \n",
    "class Apple():\n",
    "    def __init__(self,name):\n",
    "        self.name=name\n",
    "    def info (self):\n",
    "        return f\"150 calories {self.name}\"\n",
    "        "
   ]
  },
  {
   "cell_type": "code",
   "execution_count": 79,
   "id": "ee653379",
   "metadata": {},
   "outputs": [],
   "source": [
    "banana=Banana(\"Muz\")"
   ]
  },
  {
   "cell_type": "code",
   "execution_count": 80,
   "id": "8b52a67c",
   "metadata": {},
   "outputs": [],
   "source": [
    "apple=Elma(\"kirmizi elma\")"
   ]
  },
  {
   "cell_type": "code",
   "execution_count": 81,
   "id": "5f6f1d79",
   "metadata": {},
   "outputs": [
    {
     "data": {
      "text/plain": [
       "'100 calories Muz'"
      ]
     },
     "execution_count": 81,
     "metadata": {},
     "output_type": "execute_result"
    }
   ],
   "source": [
    "banana.info()"
   ]
  },
  {
   "cell_type": "code",
   "execution_count": 82,
   "id": "349094ac",
   "metadata": {},
   "outputs": [],
   "source": [
    "fruits=[banana,apple]"
   ]
  },
  {
   "cell_type": "code",
   "execution_count": 83,
   "id": "de087acf",
   "metadata": {},
   "outputs": [
    {
     "name": "stdout",
     "output_type": "stream",
     "text": [
      "100 calories Muz\n",
      "150 calorieskirmizi elma\n"
     ]
    }
   ],
   "source": [
    "for fruit in fruits:\n",
    "   print(fruit.info())"
   ]
  },
  {
   "cell_type": "markdown",
   "id": "a4cb9412",
   "metadata": {},
   "source": [
    "Encapsulation(Kapsülleme)"
   ]
  },
  {
   "cell_type": "code",
   "execution_count": 109,
   "id": "9324a40e",
   "metadata": {},
   "outputs": [],
   "source": [
    "class Phone():\n",
    "    def __init__(self,name,price):\n",
    "        self.name=name\n",
    "        self.__price=price\n",
    "    def info (self):\n",
    "        print(f\"{self.name} price is:{self.__price}\")\n",
    "        \n",
    "        \n",
    "    def changePrice(self,price):\n",
    "        self.__price=price"
   ]
  },
  {
   "cell_type": "code",
   "execution_count": 110,
   "id": "4fc58283",
   "metadata": {},
   "outputs": [],
   "source": [
    "iphone=Phone(\"iphone 14\",500)"
   ]
  },
  {
   "cell_type": "code",
   "execution_count": 111,
   "id": "dcea7cc3",
   "metadata": {},
   "outputs": [
    {
     "name": "stdout",
     "output_type": "stream",
     "text": [
      "iphone 14 price is:500\n"
     ]
    }
   ],
   "source": [
    "iphone.info()"
   ]
  },
  {
   "cell_type": "code",
   "execution_count": 112,
   "id": "f7d71f03",
   "metadata": {},
   "outputs": [],
   "source": [
    "iphone.price=400"
   ]
  },
  {
   "cell_type": "code",
   "execution_count": 113,
   "id": "e19380f9",
   "metadata": {},
   "outputs": [
    {
     "name": "stdout",
     "output_type": "stream",
     "text": [
      "iphone 14 price is:500\n"
     ]
    }
   ],
   "source": [
    "iphone.info()"
   ]
  },
  {
   "cell_type": "code",
   "execution_count": 114,
   "id": "83253499",
   "metadata": {},
   "outputs": [],
   "source": [
    "iphone.changePrice(700)"
   ]
  },
  {
   "cell_type": "code",
   "execution_count": 115,
   "id": "eb4b5d65",
   "metadata": {},
   "outputs": [
    {
     "name": "stdout",
     "output_type": "stream",
     "text": [
      "iphone 14 price is:700\n"
     ]
    }
   ],
   "source": [
    "iphone.info()"
   ]
  },
  {
   "cell_type": "markdown",
   "id": "c3d3c9a4",
   "metadata": {},
   "source": [
    "Abstraction (soyutlama)"
   ]
  },
  {
   "cell_type": "code",
   "execution_count": 116,
   "id": "beb37a2b",
   "metadata": {},
   "outputs": [],
   "source": [
    "from abc import ABC,abstractmethod"
   ]
  },
  {
   "cell_type": "code",
   "execution_count": 117,
   "id": "b9872653",
   "metadata": {},
   "outputs": [],
   "source": [
    "class Car(ABC):\n",
    "    @abstractmethod\n",
    "    def maxspeed(self):\n",
    "        pass"
   ]
  },
  {
   "cell_type": "code",
   "execution_count": 125,
   "id": "b1282bb3",
   "metadata": {},
   "outputs": [],
   "source": [
    "class Tesla(Car):\n",
    "    def maxspeed(self):\n",
    "           print(\"200 km\")"
   ]
  },
  {
   "cell_type": "code",
   "execution_count": 126,
   "id": "b22ae851",
   "metadata": {},
   "outputs": [],
   "source": [
    "tesla=Tesla()"
   ]
  },
  {
   "cell_type": "code",
   "execution_count": 127,
   "id": "e2cb0b08",
   "metadata": {},
   "outputs": [
    {
     "name": "stdout",
     "output_type": "stream",
     "text": [
      "200 km\n"
     ]
    }
   ],
   "source": [
    "tesla.maxspeed()"
   ]
  },
  {
   "cell_type": "code",
   "execution_count": 131,
   "id": "eff3af7f",
   "metadata": {},
   "outputs": [],
   "source": [
    "class mercedes(Car):\n",
    "    def maxspeed(self):\n",
    "           print(\"200 km\")"
   ]
  },
  {
   "cell_type": "code",
   "execution_count": 132,
   "id": "eca25d9d",
   "metadata": {},
   "outputs": [],
   "source": [
    "mercedes=mercedes()"
   ]
  },
  {
   "cell_type": "code",
   "execution_count": 133,
   "id": "17bcc14b",
   "metadata": {},
   "outputs": [
    {
     "name": "stdout",
     "output_type": "stream",
     "text": [
      "200 km\n"
     ]
    }
   ],
   "source": [
    "mercedes.maxspeed()"
   ]
  },
  {
   "cell_type": "markdown",
   "id": "f71d46f7",
   "metadata": {},
   "source": [
    "# Special Mehods"
   ]
  },
  {
   "cell_type": "code",
   "execution_count": 152,
   "id": "4d3b3ffa",
   "metadata": {},
   "outputs": [],
   "source": [
    "class Fruit():\n",
    "    def __init__(self,name,calories):\n",
    "        self.name=name\n",
    "        self.calories=calories\n",
    "    def __str__(self):\n",
    "        return f\"{self.name}:{self.calories} calories\"\n",
    "    def __len__(self):\n",
    "        return self.calories"
   ]
  },
  {
   "cell_type": "code",
   "execution_count": 153,
   "id": "10323898",
   "metadata": {},
   "outputs": [],
   "source": [
    "myfruit=Fruit(\"banana\",150)"
   ]
  },
  {
   "cell_type": "code",
   "execution_count": 154,
   "id": "7fbd7233",
   "metadata": {},
   "outputs": [
    {
     "data": {
      "text/plain": [
       "150"
      ]
     },
     "execution_count": 154,
     "metadata": {},
     "output_type": "execute_result"
    }
   ],
   "source": [
    "myfruit.calories"
   ]
  },
  {
   "cell_type": "code",
   "execution_count": 155,
   "id": "36f0ddcc",
   "metadata": {},
   "outputs": [
    {
     "data": {
      "text/plain": [
       "'banana'"
      ]
     },
     "execution_count": 155,
     "metadata": {},
     "output_type": "execute_result"
    }
   ],
   "source": [
    "myfruit.name"
   ]
  },
  {
   "cell_type": "code",
   "execution_count": 156,
   "id": "72f0c90d",
   "metadata": {},
   "outputs": [
    {
     "name": "stdout",
     "output_type": "stream",
     "text": [
      "banana:150 calories\n"
     ]
    }
   ],
   "source": [
    "print(myfruit)"
   ]
  },
  {
   "cell_type": "code",
   "execution_count": 157,
   "id": "f61be57f",
   "metadata": {},
   "outputs": [
    {
     "data": {
      "text/plain": [
       "150"
      ]
     },
     "execution_count": 157,
     "metadata": {},
     "output_type": "execute_result"
    }
   ],
   "source": [
    "len(myfruit)"
   ]
  },
  {
   "cell_type": "code",
   "execution_count": 163,
   "id": "5594abdd",
   "metadata": {},
   "outputs": [],
   "source": [
    "class Train():\n",
    "    def __init__(self,name):\n",
    "        self.name=name\n",
    "        \n",
    "    def __getitem__(self,key):\n",
    "        if key==\"a\":\n",
    "            return self.name\n",
    "        else:\n",
    "            return \"Not Found\""
   ]
  },
  {
   "cell_type": "code",
   "execution_count": 164,
   "id": "9a20ea0c",
   "metadata": {},
   "outputs": [],
   "source": [
    "mytrain=Train(\"myTrain\")"
   ]
  },
  {
   "cell_type": "code",
   "execution_count": 165,
   "id": "ace12a0f",
   "metadata": {},
   "outputs": [
    {
     "data": {
      "text/plain": [
       "'myTrain'"
      ]
     },
     "execution_count": 165,
     "metadata": {},
     "output_type": "execute_result"
    }
   ],
   "source": [
    "mytrain[\"a\"]"
   ]
  },
  {
   "cell_type": "code",
   "execution_count": 166,
   "id": "96e4eed7",
   "metadata": {},
   "outputs": [
    {
     "data": {
      "text/plain": [
       "'Not Found'"
      ]
     },
     "execution_count": 166,
     "metadata": {},
     "output_type": "execute_result"
    }
   ],
   "source": [
    "mytrain[\"b\"]"
   ]
  },
  {
   "cell_type": "code",
   "execution_count": null,
   "id": "72c5ecce",
   "metadata": {},
   "outputs": [],
   "source": []
  }
 ],
 "metadata": {
  "kernelspec": {
   "display_name": "Python 3 (ipykernel)",
   "language": "python",
   "name": "python3"
  },
  "language_info": {
   "codemirror_mode": {
    "name": "ipython",
    "version": 3
   },
   "file_extension": ".py",
   "mimetype": "text/x-python",
   "name": "python",
   "nbconvert_exporter": "python",
   "pygments_lexer": "ipython3",
   "version": "3.11.5"
  }
 },
 "nbformat": 4,
 "nbformat_minor": 5
}
