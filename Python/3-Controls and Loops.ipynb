{
 "cells": [
  {
   "cell_type": "code",
   "execution_count": 1,
   "id": "61bfafe6",
   "metadata": {},
   "outputs": [],
   "source": [
    "my_superhero=\"Batman\"\n"
   ]
  },
  {
   "cell_type": "code",
   "execution_count": 2,
   "id": "d72cab01",
   "metadata": {},
   "outputs": [
    {
     "name": "stdout",
     "output_type": "stream",
     "text": [
      "Batman\n"
     ]
    }
   ],
   "source": [
    "if my_superhero ==\"Batman\":\n",
    "    #indentation\n",
    "    print(\"Batman\")"
   ]
  },
  {
   "cell_type": "code",
   "execution_count": null,
   "id": "842e21ee",
   "metadata": {},
   "outputs": [],
   "source": [
    "my_superhero=input(\"enter : \")\n"
   ]
  },
  {
   "cell_type": "code",
   "execution_count": null,
   "id": "ce1fdd56",
   "metadata": {},
   "outputs": [],
   "source": [
    "if my_superhero==\"Superman\":\n",
    "    print(\"superman\")\n",
    "elif my_superhero==\"Batman\":\n",
    "    print(\"Batman\")\n",
    "else :\n",
    "    print(\":(\")"
   ]
  },
  {
   "cell_type": "code",
   "execution_count": null,
   "id": "9a326d6c",
   "metadata": {},
   "outputs": [],
   "source": [
    "my_superhero_list=[\"Spiderman\",\"Batman\",\"Black widow\"]"
   ]
  },
  {
   "cell_type": "code",
   "execution_count": null,
   "id": "22888521",
   "metadata": {},
   "outputs": [],
   "source": [
    "if my_superhero in my_superhero_list:\n",
    "    print(\":)\")\n",
    "else:\n",
    "    print(\":(\")"
   ]
  },
  {
   "cell_type": "markdown",
   "id": "c9de7de0",
   "metadata": {},
   "source": [
    "# Loops\n"
   ]
  },
  {
   "cell_type": "code",
   "execution_count": null,
   "id": "782eb449",
   "metadata": {},
   "outputs": [],
   "source": [
    "my_list=[10,20,30,40,50,60,70]"
   ]
  },
  {
   "cell_type": "code",
   "execution_count": null,
   "id": "071c53d7",
   "metadata": {},
   "outputs": [],
   "source": [
    "for number in my_list:\n",
    "    print(number)"
   ]
  },
  {
   "cell_type": "code",
   "execution_count": null,
   "id": "673828aa",
   "metadata": {},
   "outputs": [],
   "source": [
    "for number in my_list:\n",
    "    print(number / 5*2)"
   ]
  },
  {
   "cell_type": "code",
   "execution_count": null,
   "id": "92c5c3d2",
   "metadata": {},
   "outputs": [],
   "source": [
    "for x in my_list:\n",
    "    if x%6==0:\n",
    "        print(x)\n",
    "        "
   ]
  },
  {
   "cell_type": "code",
   "execution_count": null,
   "id": "66b298c4",
   "metadata": {},
   "outputs": [],
   "source": [
    "my_string=\"Emre Enes Yenen\""
   ]
  },
  {
   "cell_type": "code",
   "execution_count": null,
   "id": "f3f67cab",
   "metadata": {},
   "outputs": [],
   "source": [
    "for c in my_string:\n",
    "    print(c)"
   ]
  },
  {
   "cell_type": "code",
   "execution_count": null,
   "id": "74632608",
   "metadata": {},
   "outputs": [],
   "source": [
    "my_tuple=(10,20,30,40)"
   ]
  },
  {
   "cell_type": "code",
   "execution_count": null,
   "id": "3e55b202",
   "metadata": {},
   "outputs": [],
   "source": [
    "for num in my_tuple:\n",
    "    print(num/5*2)"
   ]
  },
  {
   "cell_type": "code",
   "execution_count": null,
   "id": "a76a330e",
   "metadata": {},
   "outputs": [],
   "source": [
    "my_newList=[(\"a\",\"b\"),(\"c\",\"d\"),(\"e\",\"f\")]\n",
    "\n",
    "len(my_newList)"
   ]
  },
  {
   "cell_type": "code",
   "execution_count": null,
   "id": "39b86fc3",
   "metadata": {},
   "outputs": [],
   "source": [
    "for element in my_newList:\n",
    "    print(element)"
   ]
  },
  {
   "cell_type": "code",
   "execution_count": null,
   "id": "435fe360",
   "metadata": {},
   "outputs": [],
   "source": [
    "#tuple unpacking\n"
   ]
  },
  {
   "cell_type": "code",
   "execution_count": null,
   "id": "330a7824",
   "metadata": {},
   "outputs": [],
   "source": [
    "for (x,y) in my_newList:\n",
    "    print(x)"
   ]
  },
  {
   "cell_type": "code",
   "execution_count": null,
   "id": "1ffdc59d",
   "metadata": {},
   "outputs": [],
   "source": [
    "my_dictionary={\"k1\":100,\"k2\":200,\"k3\":300}\n"
   ]
  },
  {
   "cell_type": "code",
   "execution_count": null,
   "id": "e4ad0b1d",
   "metadata": {},
   "outputs": [],
   "source": [
    "for element in my_dictionary:\n",
    "    print(element)"
   ]
  },
  {
   "cell_type": "code",
   "execution_count": null,
   "id": "9e400a4e",
   "metadata": {},
   "outputs": [],
   "source": [
    "for num in my_dictionary.values():\n",
    "    print(num)"
   ]
  },
  {
   "cell_type": "code",
   "execution_count": null,
   "id": "8aa0e498",
   "metadata": {},
   "outputs": [],
   "source": [
    "print(\"for loop started\")\n",
    "for num in my_list:\n",
    "    print(num)\n",
    "print(\"For Loop ended\")"
   ]
  },
  {
   "cell_type": "code",
   "execution_count": null,
   "id": "404a1fac",
   "metadata": {},
   "outputs": [],
   "source": [
    "for number in my_list:\n",
    "    print(number)\n",
    "    if number == 40:\n",
    "        print(\"yes\")\n",
    "        break\n",
    "        "
   ]
  },
  {
   "cell_type": "code",
   "execution_count": null,
   "id": "0b442cec",
   "metadata": {},
   "outputs": [],
   "source": [
    "for number in my_list:\n",
    "    if number == 40:\n",
    "        continue\n",
    "    print(number)\n",
    "      "
   ]
  },
  {
   "cell_type": "code",
   "execution_count": null,
   "id": "467a5f23",
   "metadata": {},
   "outputs": [],
   "source": [
    "for num in my_list:\n",
    "    pass"
   ]
  },
  {
   "cell_type": "markdown",
   "id": "d6f08c40",
   "metadata": {},
   "source": [
    "\n",
    "#while"
   ]
  },
  {
   "cell_type": "code",
   "execution_count": null,
   "id": "f628d3b5",
   "metadata": {},
   "outputs": [],
   "source": [
    "x=0\n",
    "while x <10:\n",
    "    print(x)\n",
    "    x+=1"
   ]
  },
  {
   "cell_type": "code",
   "execution_count": null,
   "id": "9cef0540",
   "metadata": {},
   "outputs": [],
   "source": [
    "last_list=[10,20,30,40,50]\n",
    "while 20 in last_list:\n",
    "    print(\"20 in last_list\")\n",
    "     last_list.pop()\n",
    "        "
   ]
  },
  {
   "cell_type": "code",
   "execution_count": 5,
   "id": "6587e922",
   "metadata": {},
   "outputs": [],
   "source": [
    "my_list=[10,20,30]"
   ]
  },
  {
   "cell_type": "code",
   "execution_count": 6,
   "id": "03195acd",
   "metadata": {},
   "outputs": [
    {
     "data": {
      "text/plain": [
       "[10, 20, 30]"
      ]
     },
     "execution_count": 6,
     "metadata": {},
     "output_type": "execute_result"
    }
   ],
   "source": [
    "my_list"
   ]
  },
  {
   "cell_type": "code",
   "execution_count": 8,
   "id": "680cecc7",
   "metadata": {},
   "outputs": [
    {
     "name": "stdout",
     "output_type": "stream",
     "text": [
      "my list [10, 20, 30]\n",
      "my list [10, 20, 30]\n"
     ]
    }
   ],
   "source": [
    "print(f\"my list {my_list}\")\n",
    "print(\"my list\",my_list)"
   ]
  },
  {
   "cell_type": "code",
   "execution_count": null,
   "id": "6b66e850",
   "metadata": {},
   "outputs": [],
   "source": []
  }
 ],
 "metadata": {
  "kernelspec": {
   "display_name": "Python 3 (ipykernel)",
   "language": "python",
   "name": "python3"
  },
  "language_info": {
   "codemirror_mode": {
    "name": "ipython",
    "version": 3
   },
   "file_extension": ".py",
   "mimetype": "text/x-python",
   "name": "python",
   "nbconvert_exporter": "python",
   "pygments_lexer": "ipython3",
   "version": "3.11.5"
  }
 },
 "nbformat": 4,
 "nbformat_minor": 5
}
